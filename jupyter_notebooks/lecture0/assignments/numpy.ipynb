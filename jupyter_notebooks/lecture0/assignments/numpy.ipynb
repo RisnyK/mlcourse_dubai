{
 "cells": [
  {
   "cell_type": "markdown",
   "metadata": {},
   "source": [
    "# Numpy\n",
    "- based on https://github.com/mephistopheies/mlworkshop39_042017/blob/master/0_python_intro/%D0%A3%D0%BF%D1%80%D0%B0%D0%B6%D0%BD%D0%B5%D0%BD%D0%B8%D1%8F.ipynb\n",
    "\n",
    "<img src=\"trainings1.jpg\" />"
   ]
  },
  {
   "cell_type": "markdown",
   "metadata": {},
   "source": [
    "## Task 0\n",
    "- import numpy"
   ]
  },
  {
   "cell_type": "code",
   "execution_count": 2,
   "metadata": {},
   "outputs": [],
   "source": [
    "import numpy as np"
   ]
  },
  {
   "cell_type": "markdown",
   "metadata": {},
   "source": [
    "## Task 1\n",
    "- print version of numpy"
   ]
  },
  {
   "cell_type": "code",
   "execution_count": 2,
   "metadata": {},
   "outputs": [
    {
     "name": "stdout",
     "output_type": "stream",
     "text": [
      "1.16.4\n"
     ]
    }
   ],
   "source": [
    "print(np.__version__)"
   ]
  },
  {
   "cell_type": "markdown",
   "metadata": {},
   "source": [
    "## Task 2\n",
    "- create 1d vector of zeros of size 10"
   ]
  },
  {
   "cell_type": "code",
   "execution_count": 3,
   "metadata": {},
   "outputs": [
    {
     "data": {
      "text/plain": [
       "array([0, 0, 0, 0, 0, 0, 0, 0, 0, 0])"
      ]
     },
     "execution_count": 3,
     "metadata": {},
     "output_type": "execute_result"
    }
   ],
   "source": [
    "np.zeros(10,dtype=int)"
   ]
  },
  {
   "cell_type": "markdown",
   "metadata": {},
   "source": [
    "## Task 3\n",
    "- create 1d vector filled with ones of size 10"
   ]
  },
  {
   "cell_type": "code",
   "execution_count": 5,
   "metadata": {},
   "outputs": [
    {
     "data": {
      "text/plain": [
       "array([1, 1, 1, 1, 1, 1, 1, 1, 1, 1])"
      ]
     },
     "execution_count": 5,
     "metadata": {},
     "output_type": "execute_result"
    }
   ],
   "source": [
    "np.ones(10,dtype=int)"
   ]
  },
  {
   "cell_type": "markdown",
   "metadata": {},
   "source": [
    "## Task 4\n",
    "- create 1d vector filled with ones of size 10,"
   ]
  },
  {
   "cell_type": "code",
   "execution_count": 6,
   "metadata": {},
   "outputs": [
    {
     "data": {
      "text/plain": [
       "array([1, 1, 1, 1, 1, 1, 1, 1, 1, 1])"
      ]
     },
     "execution_count": 6,
     "metadata": {},
     "output_type": "execute_result"
    }
   ],
   "source": [
    "np.ones(10,dtype=int)"
   ]
  },
  {
   "cell_type": "markdown",
   "metadata": {},
   "source": [
    "## Task 5\n",
    "- crete 1d vector filled with numbers from 10 to 49"
   ]
  },
  {
   "cell_type": "code",
   "execution_count": 7,
   "metadata": {},
   "outputs": [
    {
     "data": {
      "text/plain": [
       "array([10, 11, 12, 13, 14, 15, 16, 17, 18, 19, 20, 21, 22, 23, 24, 25, 26,\n",
       "       27, 28, 29, 30, 31, 32, 33, 34, 35, 36, 37, 38, 39, 40, 41, 42, 43,\n",
       "       44, 45, 46, 47, 48, 49])"
      ]
     },
     "execution_count": 7,
     "metadata": {},
     "output_type": "execute_result"
    }
   ],
   "source": [
    "np.arange(10,50)"
   ]
  },
  {
   "cell_type": "markdown",
   "metadata": {},
   "source": [
    "## Task 6\n",
    "- create any 1d vector, then reverce it, such that last element will be on the first position"
   ]
  },
  {
   "cell_type": "code",
   "execution_count": 9,
   "metadata": {},
   "outputs": [
    {
     "name": "stdout",
     "output_type": "stream",
     "text": [
      "The matrix is [ 1  2  3  4  5  6  7  8  9 10]\n",
      "The reversed matrix is [10  9  8  7  6  5  4  3  2]\n"
     ]
    }
   ],
   "source": [
    "x=np.arange(1,11)\n",
    "print(\"The matrix is {}\".format(x))\n",
    "print(\"The reversed matrix is {}\".format(x[-1:0:-1]))"
   ]
  },
  {
   "cell_type": "markdown",
   "metadata": {},
   "source": [
    "## Task 7\n",
    "- create 2d 3x3 array / matrix, filled with numbers from 0 to 8"
   ]
  },
  {
   "cell_type": "code",
   "execution_count": 13,
   "metadata": {},
   "outputs": [
    {
     "data": {
      "text/plain": [
       "array([[0, 1, 2],\n",
       "       [3, 4, 5],\n",
       "       [6, 7, 8]])"
      ]
     },
     "execution_count": 13,
     "metadata": {},
     "output_type": "execute_result"
    }
   ],
   "source": [
    "np.arange(0,9).reshape(3,3)"
   ]
  },
  {
   "cell_type": "markdown",
   "metadata": {},
   "source": [
    "## Task 8\n",
    "- create 3x3 matrix filled with ones"
   ]
  },
  {
   "cell_type": "code",
   "execution_count": 16,
   "metadata": {},
   "outputs": [
    {
     "data": {
      "text/plain": [
       "array([[1, 1, 1],\n",
       "       [1, 1, 1],\n",
       "       [1, 1, 1]])"
      ]
     },
     "execution_count": 16,
     "metadata": {},
     "output_type": "execute_result"
    }
   ],
   "source": [
    "np.ones(9,dtype=int).reshape(3,3)"
   ]
  },
  {
   "cell_type": "markdown",
   "metadata": {},
   "source": [
    "## Task 9\n",
    "- create 3x3 matrix filled with random numbers"
   ]
  },
  {
   "cell_type": "code",
   "execution_count": 23,
   "metadata": {},
   "outputs": [
    {
     "data": {
      "text/plain": [
       "array([[53, 65, 37],\n",
       "       [93, 82, 25],\n",
       "       [55, 39, 51]])"
      ]
     },
     "execution_count": 23,
     "metadata": {},
     "output_type": "execute_result"
    }
   ],
   "source": [
    "import random\n",
    "np.random.randint(20,100, size=(3,3))"
   ]
  },
  {
   "cell_type": "markdown",
   "metadata": {},
   "source": [
    "## Task 10\n",
    "- create 3x3x3 array filled with random numbers"
   ]
  },
  {
   "cell_type": "code",
   "execution_count": 24,
   "metadata": {},
   "outputs": [
    {
     "data": {
      "text/plain": [
       "array([[[82, 79, 70],\n",
       "        [76, 73, 74],\n",
       "        [64, 81, 92]],\n",
       "\n",
       "       [[71, 27, 88],\n",
       "        [90, 62, 23],\n",
       "        [64, 32, 23]],\n",
       "\n",
       "       [[38, 79, 51],\n",
       "        [31, 49, 42],\n",
       "        [91, 29, 35]]])"
      ]
     },
     "execution_count": 24,
     "metadata": {},
     "output_type": "execute_result"
    }
   ],
   "source": [
    "np.random.randint(20,100, size=(3,3,3))"
   ]
  },
  {
   "cell_type": "markdown",
   "metadata": {},
   "source": [
    "## Task 11\n",
    "- create 10x10 matrix filled with random numbers and find minimal and maximal elements"
   ]
  },
  {
   "cell_type": "code",
   "execution_count": 10,
   "metadata": {},
   "outputs": [
    {
     "name": "stdout",
     "output_type": "stream",
     "text": [
      "[[78 45 57 47 69 92 55 85 92 33]\n",
      " [27 48 23 22 29 69 44 59 94 88]\n",
      " [94 28 35 84 50 48 97 89 32 37]\n",
      " [83 27 94 99 42 95 72 37 39 90]\n",
      " [26 30 74 32 73 41 72 77 86 98]\n",
      " [87 58 84 65 92 40 26 91 62 36]\n",
      " [58 50 32 53 86 82 75 53 30 57]\n",
      " [39 20 75 94 70 86 21 77 88 91]\n",
      " [46 95 67 56 88 91 20 90 97 34]\n",
      " [27 86 75 84 49 66 81 94 29 39]]\n",
      "\n",
      "Biggest number is 99\n",
      "Lowest element is 20\n"
     ]
    }
   ],
   "source": [
    "x=np.random.randint(20,100, size=(10,10))\n",
    "print(x)\n",
    "print(\"\")\n",
    "print(\"Biggest number is {}\".format(x.max()))\n",
    "print(\"Lowest element is {}\".format(x.min()))"
   ]
  },
  {
   "cell_type": "markdown",
   "metadata": {},
   "source": [
    "## Task 12\n",
    "- create a random 1d vector of size 30 and find average of them"
   ]
  },
  {
   "cell_type": "code",
   "execution_count": 34,
   "metadata": {},
   "outputs": [
    {
     "name": "stdout",
     "output_type": "stream",
     "text": [
      "Vector of size 30 is [71 25 21 25 64 49 34 95 57 17 47 11 46 95 98 47 80  9 92 67  1 99 16 65\n",
      " 16  5 38 40 93 42]\n",
      "\n",
      "The average value of vector is 48.83\n"
     ]
    }
   ],
   "source": [
    "x=np.random.randint(1,100,size=30)\n",
    "print(\"Vector of size 30 is {}\".format(x))\n",
    "print(\"\")\n",
    "print(\"The average value of vector is {:0.2f}\".format(x.mean()))"
   ]
  },
  {
   "cell_type": "markdown",
   "metadata": {},
   "source": [
    "## Task 13\n",
    "- create 5x5 matrix, which has ones on a \"frame\" and zeros inside"
   ]
  },
  {
   "cell_type": "code",
   "execution_count": 39,
   "metadata": {},
   "outputs": [
    {
     "name": "stdout",
     "output_type": "stream",
     "text": [
      "[[1 1 1 1 1]\n",
      " [1 0 0 0 1]\n",
      " [1 0 0 0 1]\n",
      " [1 0 0 0 1]\n",
      " [1 1 1 1 1]]\n"
     ]
    }
   ],
   "source": [
    "x=np.ones(25,dtype=int).reshape(5,5)\n",
    "x[1:-1,1:-1]=0\n",
    "print(x)"
   ]
  },
  {
   "cell_type": "markdown",
   "metadata": {},
   "source": [
    "## Task 14\n",
    "- create 8x8 matrix\n",
    "- fill it with ones and zeros in a \"chess\" order\n",
    "- **don't use** `tile` funtion"
   ]
  },
  {
   "cell_type": "code",
   "execution_count": 40,
   "metadata": {},
   "outputs": [
    {
     "data": {
      "text/plain": [
       "array([[0, 1, 0, 1, 0, 1, 0, 1],\n",
       "       [1, 0, 1, 0, 1, 0, 1, 0],\n",
       "       [0, 1, 0, 1, 0, 1, 0, 1],\n",
       "       [1, 0, 1, 0, 1, 0, 1, 0],\n",
       "       [0, 1, 0, 1, 0, 1, 0, 1],\n",
       "       [1, 0, 1, 0, 1, 0, 1, 0],\n",
       "       [0, 1, 0, 1, 0, 1, 0, 1],\n",
       "       [1, 0, 1, 0, 1, 0, 1, 0]])"
      ]
     },
     "execution_count": 40,
     "metadata": {},
     "output_type": "execute_result"
    }
   ],
   "source": [
    "x = np.zeros((8,8),dtype=int)\n",
    "x[1::2,::2]=1\n",
    "x[::2,1::2]=1\n",
    "x"
   ]
  },
  {
   "cell_type": "markdown",
   "metadata": {},
   "source": [
    "## Task 15\n",
    "- create 8x8 matrix\n",
    "- fill it with ones and zeros in a \"chess\" order\n",
    "- **use** `tile` funtion"
   ]
  },
  {
   "cell_type": "code",
   "execution_count": 25,
   "metadata": {},
   "outputs": [
    {
     "data": {
      "text/plain": [
       "array([[0, 1, 0, 1, 0, 1, 0, 1],\n",
       "       [1, 0, 1, 0, 1, 0, 1, 0],\n",
       "       [0, 1, 0, 1, 0, 1, 0, 1],\n",
       "       [1, 0, 1, 0, 1, 0, 1, 0],\n",
       "       [0, 1, 0, 1, 0, 1, 0, 1],\n",
       "       [1, 0, 1, 0, 1, 0, 1, 0],\n",
       "       [0, 1, 0, 1, 0, 1, 0, 1],\n",
       "       [1, 0, 1, 0, 1, 0, 1, 0]])"
      ]
     },
     "execution_count": 25,
     "metadata": {},
     "output_type": "execute_result"
    }
   ],
   "source": [
    "x=np.array([0,1])\n",
    "y=np.array([1,0])\n",
    "np.tile([[0,1],[1,0]],(4,4))"
   ]
  },
  {
   "cell_type": "markdown",
   "metadata": {},
   "source": [
    "## Task 16\n",
    "- create two random matrices 5x3 and 3x2\n",
    "- multiply them"
   ]
  },
  {
   "cell_type": "code",
   "execution_count": 42,
   "metadata": {},
   "outputs": [
    {
     "data": {
      "text/plain": [
       "array([[10027,  3267],\n",
       "       [13444,  5682],\n",
       "       [ 9548,  4155],\n",
       "       [12594,  4164],\n",
       "       [11814,  4521]])"
      ]
     },
     "execution_count": 42,
     "metadata": {},
     "output_type": "execute_result"
    }
   ],
   "source": [
    "x=np.random.randint(10,100,size=(5,3))\n",
    "y=np.random.randint(10,100,size=(3,2))\n",
    "np.dot(x,y)"
   ]
  },
  {
   "cell_type": "markdown",
   "metadata": {},
   "source": [
    "## Task 17\n",
    "- create array of size 100 filled with random numbers from 0 to 10\n",
    "- chenge sign of all numbers which are in a range between 3 and 8"
   ]
  },
  {
   "cell_type": "code",
   "execution_count": 47,
   "metadata": {},
   "outputs": [
    {
     "name": "stdout",
     "output_type": "stream",
     "text": [
      "[-6  3 -5 -7 -4 -5  0  9  1  3  2  2  8 -7 -6  1  1  0 10 -7  9  1 -7  9\n",
      " -6  8 10  3 -4 -7  8 -6  2 -5  0  1 -4 -7 10 -4  3 -7 10 -7 -5 -4  1  2\n",
      "  0  3 -7 -4  9 -7 -4  8  9 -4  8  3  0  9 10 -6 -4 -6  1 -5  2 10  2  2\n",
      "  0 -6  9 -7  2 -4  3  3 -6 10 10  2  0 -6  9  3  8 -6  1 -6  1 -4  3  1\n",
      "  8  1  1  8]\n"
     ]
    }
   ],
   "source": [
    "x=np.random.randint(0,11,size=100)\n",
    "for i in range(len(x)):\n",
    "    if(3<x[i]<8):\n",
    "        x[i]=-x[i]\n",
    "        \n",
    "print(x)"
   ]
  },
  {
   "cell_type": "markdown",
   "metadata": {},
   "source": [
    "## Task 18\n",
    "- create a matrix 5x5 such that each row would be a 1d array filled with numbers from 0 to 4"
   ]
  },
  {
   "cell_type": "code",
   "execution_count": 48,
   "metadata": {},
   "outputs": [
    {
     "data": {
      "text/plain": [
       "array([[0, 1, 2, 3, 4],\n",
       "       [0, 1, 2, 3, 4],\n",
       "       [0, 1, 2, 3, 4],\n",
       "       [0, 1, 2, 3, 4],\n",
       "       [0, 1, 2, 3, 4]])"
      ]
     },
     "execution_count": 48,
     "metadata": {},
     "output_type": "execute_result"
    }
   ],
   "source": [
    "x=np.arange(0,5)\n",
    "np.tile(x,5).reshape(5,5)"
   ]
  },
  {
   "cell_type": "markdown",
   "metadata": {},
   "source": [
    "## Task 19\n",
    "- create 1d vector of size 100 filled with random values from range 0-1, excluding boundary values (no exact 0/1)"
   ]
  },
  {
   "cell_type": "code",
   "execution_count": 52,
   "metadata": {},
   "outputs": [
    {
     "data": {
      "text/plain": [
       "array([0.96207223, 0.76517262, 0.78856056, 0.55446817, 0.41299869,\n",
       "       0.44238774, 0.47331256, 0.96062652, 0.05674427, 0.0696935 ,\n",
       "       0.73822316, 0.95061331, 0.5473619 , 0.58914087, 0.59483043,\n",
       "       0.38140391, 0.15854097, 0.15211272, 0.2799629 , 0.04205178,\n",
       "       0.29138266, 0.31531163, 0.73113105, 0.53626804, 0.39536615,\n",
       "       0.70732982, 0.03374347, 0.15915929, 0.23884664, 0.25547006,\n",
       "       0.29026339, 0.68056891, 0.22936859, 0.67261756, 0.01861462,\n",
       "       0.96928684, 0.01930068, 0.5544182 , 0.00686983, 0.91495194,\n",
       "       0.93716921, 0.89259908, 0.6726128 , 0.16693359, 0.3346175 ,\n",
       "       0.81907435, 0.69867463, 0.05789783, 0.84867203, 0.71174485,\n",
       "       0.79682583, 0.167096  , 0.65080761, 0.30135738, 0.6732929 ,\n",
       "       0.97994965, 0.40920274, 0.21831916, 0.35466612, 0.80171912,\n",
       "       0.48533058, 0.27262614, 0.43079441, 0.53679103, 0.41674127,\n",
       "       0.03021178, 0.11925882, 0.37392904, 0.77250308, 0.98126087,\n",
       "       0.82071096, 0.98458049, 0.18889596, 0.16972753, 0.37268932,\n",
       "       0.19665188, 0.75899065, 0.96568272, 0.13114972, 0.53137302,\n",
       "       0.83103434, 0.8833738 , 0.44380711, 0.36863261, 0.80934757,\n",
       "       0.47418883, 0.07983329, 0.15368788, 0.36473044, 0.04700909,\n",
       "       0.89713751, 0.48195492, 0.0267108 , 0.27671921, 0.28416291,\n",
       "       0.17138891, 0.018215  , 0.32158546, 0.22149858, 0.7112795 ])"
      ]
     },
     "execution_count": 52,
     "metadata": {},
     "output_type": "execute_result"
    }
   ],
   "source": [
    "np.random.rand(100)"
   ]
  },
  {
   "cell_type": "markdown",
   "metadata": {},
   "source": [
    "## Task 20\n",
    "- create a 10x2 random matrix filled with number from range 0-100\n",
    "- consider it as points in Cartesian plain\n",
    "- convert to polar system of coordinates"
   ]
  },
  {
   "cell_type": "code",
   "execution_count": 42,
   "metadata": {},
   "outputs": [
    {
     "name": "stdout",
     "output_type": "stream",
     "text": [
      "[[82 54]\n",
      " [67 95]\n",
      " [53 80]\n",
      " [92 49]\n",
      " [75  6]\n",
      " [80 82]\n",
      " [31 78]\n",
      " [ 6 21]\n",
      " [24 98]\n",
      " [37 11]]\n",
      "[ 98.18350167 116.24973118  95.96353474 104.23531072  75.23961722\n",
      " 114.56002793  83.93449827  21.84032967 100.89598605  38.60051813]\n",
      "[0.58235295 0.95654677 0.98568389 0.48939299 0.07982999 0.79774322\n",
      " 1.19250234 1.29249667 1.33062532 0.28897541]\n"
     ]
    }
   ],
   "source": [
    "x=np.random.randint(100,size=(10,2))\n",
    "print(x)\n",
    "a=x[:,0]\n",
    "b=x[:,1]\n",
    "c=np.sqrt(a**2+b**2)\n",
    "print(c)\n",
    "t=np.arctan(b/a)\n",
    "print(t)"
   ]
  },
  {
   "cell_type": "markdown",
   "metadata": {},
   "source": [
    "## Task 21\n",
    "- create random 13x13 matrix, replace maximal element to zero"
   ]
  },
  {
   "cell_type": "code",
   "execution_count": 65,
   "metadata": {},
   "outputs": [
    {
     "name": "stdout",
     "output_type": "stream",
     "text": [
      "Matrix is:\n",
      "[[71 81 18 83 22 12 61 91 75 42 60 91 83]\n",
      " [94 64 10 37 17 81 73 77 43 96 17 37 23]\n",
      " [77 20 88 31 10 63 15 68 79 15 16 77 65]\n",
      " [88 53 73 22 66 21 79 67 16 86 17 16 16]\n",
      " [86 59 73 30 49 62 29 34 22 24 45 17 26]\n",
      " [32 55 45 83 26 91 11 41 52 46 52 71 13]\n",
      " [28 38 78 24 30 28 33 24 89 92 67 90 46]\n",
      " [13 87 67 35 75 79 31 39 32 38 28 47 59]\n",
      " [11 98 61 23 59 93 45 64 72 12 90 55 58]\n",
      " [11 16 24 13 53 44 31 15 35 83 17 58 47]\n",
      " [52 95 41 39 14 62 21 19 75 30 51 75 44]\n",
      " [30 98 75 52 19 69 76 79 90 66 41 42 96]\n",
      " [40 33 57 48 10 50 29 73 20 37 23 60 14]]\n",
      "\n",
      "Maximal element at position [(9, 2), (12, 2)]\n",
      "\n",
      "New matrix is:\n",
      "[[71 81 18 83 22 12 61 91 75 42 60 91 83]\n",
      " [94 64 10 37 17 81 73 77 43 96 17 37 23]\n",
      " [77 20 88 31 10 63 15 68 79 15 16 77 65]\n",
      " [88 53 73 22 66 21 79 67 16 86 17 16 16]\n",
      " [86 59 73 30 49 62 29 34 22 24 45 17 26]\n",
      " [32 55 45 83 26 91 11 41 52 46 52 71 13]\n",
      " [28 38 78 24 30 28 33 24 89 92 67 90 46]\n",
      " [13 87 67 35 75 79 31 39 32 38 28 47 59]\n",
      " [11  0 61 23 59 93 45 64 72 12 90 55 58]\n",
      " [11 16 24 13 53 44 31 15 35 83 17 58 47]\n",
      " [52 95 41 39 14 62 21 19 75 30 51 75 44]\n",
      " [30  0 75 52 19 69 76 79 90 66 41 42 96]\n",
      " [40 33 57 48 10 50 29 73 20 37 23 60 14]]\n"
     ]
    }
   ],
   "source": [
    "x=np.random.randint(10,100,size=(13,13))\n",
    "print(\"Matrix is:\\n{}\".format(x))\n",
    "t=np.where(x==x.max())\n",
    "print(\"\\nMaximal element at position {}\".format(list(zip(t[0]+1,t[1]+1))))\n",
    "x[t]=0\n",
    "print(\"\\nNew matrix is:\\n{}\".format(x))"
   ]
  },
  {
   "cell_type": "markdown",
   "metadata": {},
   "source": [
    "## Task 22\n",
    "- create two 1d arrays with random values\n",
    "- make a Cauchy matrix from them $C (C_{ij} = \\frac{1}{x_i - y_j})$"
   ]
  },
  {
   "cell_type": "code",
   "execution_count": 109,
   "metadata": {},
   "outputs": [
    {
     "name": "stdout",
     "output_type": "stream",
     "text": [
      "[[ 5.74618143e+00  2.42310101e+00 -1.24044724e+01 -1.62944763e+01\n",
      "  -5.51950096e+01  2.64711262e+00  1.87991398e+00  2.53002417e+00\n",
      "   1.43949572e+01 -2.05057646e+01]\n",
      " [ 3.75985129e+00  1.98163554e+00  8.83137478e+01  3.27130286e+01\n",
      "   1.35461395e+01  2.12897569e+00  1.60287599e+00  2.05257679e+00\n",
      "   6.19547507e+00  2.31628524e+01]\n",
      " [-4.29897307e+00  1.65234564e+02 -2.05229918e+00 -2.13669370e+00\n",
      "  -2.35427127e+00 -3.46353835e+01  7.98104185e+00 -8.78027374e+01\n",
      "  -2.96583181e+00 -2.19582797e+00]\n",
      " [-4.51768828e+00  5.77582365e+01 -2.10085425e+00 -2.18937549e+00\n",
      "  -2.41838938e+00 -5.67837804e+01  7.32287055e+00 -7.83569643e+03\n",
      "  -3.06831301e+00 -2.25150410e+00]\n",
      " [-7.94443867e+00  8.86591806e+00 -2.62799023e+00 -2.76798738e+00\n",
      "  -3.14445224e+00  1.28423667e+01  4.30966865e+00  1.04876430e+01\n",
      "  -4.33963623e+00 -2.86804464e+00]\n",
      " [-3.73997090e+00 -3.48237132e+01 -1.91561171e+00 -1.98893806e+00\n",
      "  -2.17614617e+00 -1.57133198e+01  1.10462015e+01 -2.16650765e+01\n",
      "  -2.68859410e+00 -2.04007878e+00]\n",
      " [ 5.63176419e+00  2.40251814e+00 -1.29734586e+01 -1.72906119e+01\n",
      "  -6.85779666e+01  2.62256741e+00  1.86750127e+00  2.50759313e+00\n",
      "   1.36978028e+01 -2.21086635e+01]\n",
      " [-3.80102123e+00 -4.09475315e+01 -1.93150164e+00 -2.00607320e+00\n",
      "  -2.19667544e+00 -1.68504184e+01  1.05459172e+01 -2.38876331e+01\n",
      "  -2.72000017e+00 -2.05811041e+00]\n",
      " [-3.02793026e+00 -1.09178765e+01 -1.70968432e+00 -1.76785359e+00\n",
      "  -1.91422440e+00 -7.90406907e+00  3.61637235e+01 -9.17144510e+00\n",
      "  -2.29981046e+00 -1.80814174e+00]\n",
      " [ 1.86490125e+00  1.29051055e+00  3.55142996e+00  3.32422147e+00\n",
      "   2.90634119e+00  1.35141909e+00  1.11840305e+00  1.32022622e+00\n",
      "   2.31662963e+00  3.19054546e+00]]\n"
     ]
    }
   ],
   "source": [
    "x=np.array(np.random.rand(10))\n",
    "y=np.array(np.random.rand(10))\n",
    "cauchym = np.array([[ 1.0/(x_i-y_j) for y_j in y] for x_i in x])\n",
    "print(cauchym)"
   ]
  },
  {
   "cell_type": "markdown",
   "metadata": {},
   "source": [
    "## Task 23\n",
    "- create an array of random `float` numbers and convert it to `int`"
   ]
  },
  {
   "cell_type": "code",
   "execution_count": 75,
   "metadata": {},
   "outputs": [
    {
     "name": "stdout",
     "output_type": "stream",
     "text": [
      "Float array:\n",
      "[19.93647428 18.11311595 17.36511125 13.43983785 12.94981189 14.84603233\n",
      " 18.30347867 14.17962372 19.32887244 18.63627485]\n",
      "\n",
      "Int array:\n",
      "[19 18 17 13 12 14 18 14 19 18]\n"
     ]
    }
   ],
   "source": [
    "x=np.random.uniform(10,20,10)\n",
    "print(\"Float array:\\n{}\".format(x))\n",
    "y=x.astype(int)\n",
    "print(\"\\nInt array:\\n{}\".format(y))"
   ]
  },
  {
   "cell_type": "markdown",
   "metadata": {},
   "source": [
    "## Task 24\n",
    "- create 1d array of numbers from 0 to 15\n",
    "- put each of them in random positions inside 4x4 matrix"
   ]
  },
  {
   "cell_type": "code",
   "execution_count": 61,
   "metadata": {},
   "outputs": [
    {
     "data": {
      "text/plain": [
       "array([[ 3, 15,  2,  1],\n",
       "       [12, 13,  9,  7],\n",
       "       [ 6,  8, 11, 10],\n",
       "       [ 5,  4, 14,  0]])"
      ]
     },
     "execution_count": 61,
     "metadata": {},
     "output_type": "execute_result"
    }
   ],
   "source": [
    "x=np.arange(16)\n",
    "m=np.empty((4,4),dtype=int)\n",
    "\n",
    "for i in range(4):\n",
    "    for j in range(4):\n",
    "        v=(np.random.choice(x,1,replace=False))\n",
    "        x = np.delete(x, np.where(x == v))\n",
    "        m[i,j]=v\n",
    "        \n",
    "m"
   ]
  },
  {
   "cell_type": "markdown",
   "metadata": {},
   "source": [
    "## Task 25\n",
    "- create random 100x50 matrix\n",
    "- deduct avarage of each row from correspondatn rows"
   ]
  },
  {
   "cell_type": "code",
   "execution_count": 46,
   "metadata": {},
   "outputs": [
    {
     "name": "stdout",
     "output_type": "stream",
     "text": [
      "The original array is \n",
      "[[ 61 424 247 ...  36 100 381]\n",
      " [294  25 212 ... 448 482 390]\n",
      " [140 356  37 ... 207 456 306]\n",
      " ...\n",
      " [332 103 310 ... 390  34 214]\n",
      " [257 358 493 ... 401 198 338]\n",
      " [485 242 252 ... 264 416 430]]\n",
      "\n",
      "The new array is\n",
      "[[-204  158  -18 ... -229 -165  115]\n",
      " [  55 -213  -26 ...  209  243  151]\n",
      " [-104  111 -207 ...  -37  211   61]\n",
      " ...\n",
      " [ 127 -101  105 ...  185 -170    9]\n",
      " [ -32   68  203 ...  111  -91   48]\n",
      " [ 194  -48  -38 ...  -26  125  139]]\n"
     ]
    }
   ],
   "source": [
    "x=np.random.randint(500,size=(5000)).reshape(100,50)\n",
    "print(\"The original array is \\n{}\".format(x))\n",
    "m=x.mean(axis=1)\n",
    "for i in range(100):\n",
    "    for j in range(50):\n",
    "        x[i,j]=x[i,j]-m[i]\n",
    "print(\"\\nThe new array is\\n{}\".format(x))"
   ]
  },
  {
   "cell_type": "markdown",
   "metadata": {},
   "source": [
    "## Task 26 \n",
    "- create random 10x10 matrix\n",
    "- extract diagonal elements and put them into 1d array"
   ]
  },
  {
   "cell_type": "code",
   "execution_count": 94,
   "metadata": {},
   "outputs": [
    {
     "name": "stdout",
     "output_type": "stream",
     "text": [
      "The matrix is:\n",
      "[[ 0  1  2  3  4  5  6  7  8  9]\n",
      " [10 11 12 13 14 15 16 17 18 19]\n",
      " [20 21 22 23 24 25 26 27 28 29]\n",
      " [30 31 32 33 34 35 36 37 38 39]\n",
      " [40 41 42 43 44 45 46 47 48 49]\n",
      " [50 51 52 53 54 55 56 57 58 59]\n",
      " [60 61 62 63 64 65 66 67 68 69]\n",
      " [70 71 72 73 74 75 76 77 78 79]\n",
      " [80 81 82 83 84 85 86 87 88 89]\n",
      " [90 91 92 93 94 95 96 97 98 99]]\n",
      "\n",
      "The diagonal elements are:[ 0 11 22 33 44 55 66 77 88 99]\n"
     ]
    }
   ],
   "source": [
    "x=np.array(np.arange(100)).reshape(10,10)\n",
    "print(\"The matrix is:\\n{}\".format(x))\n",
    "print(\"\\nThe diagonal elements are:{}\".format(x.diagonal()))"
   ]
  },
  {
   "cell_type": "markdown",
   "metadata": {},
   "source": [
    "## Task 27\n",
    "- given a vector `[1, 2, 3, 4, 5]`\n",
    "- build a new vertor with three zeros between each element"
   ]
  },
  {
   "cell_type": "code",
   "execution_count": 157,
   "metadata": {},
   "outputs": [
    {
     "data": {
      "text/plain": [
       "array([1, 0, 0, 0, 2, 0, 0, 0, 3, 0, 0, 0, 4, 0, 0, 0, 5])"
      ]
     },
     "execution_count": 157,
     "metadata": {},
     "output_type": "execute_result"
    }
   ],
   "source": [
    "x=[1,2,3,4,5]\n",
    "m=np.zeros(len(x)+((len(x)-1)*3),dtype=int)\n",
    "m[0::4]=x\n",
    "m"
   ]
  },
  {
   "cell_type": "code",
   "execution_count": 62,
   "metadata": {},
   "outputs": [],
   "source": [
    "?np.all"
   ]
  },
  {
   "cell_type": "code",
   "execution_count": null,
   "metadata": {},
   "outputs": [],
   "source": []
  }
 ],
 "metadata": {
  "kernelspec": {
   "display_name": "Python 3",
   "language": "python",
   "name": "python3"
  },
  "language_info": {
   "codemirror_mode": {
    "name": "ipython",
    "version": 3
   },
   "file_extension": ".py",
   "mimetype": "text/x-python",
   "name": "python",
   "nbconvert_exporter": "python",
   "pygments_lexer": "ipython3",
   "version": "3.7.3"
  }
 },
 "nbformat": 4,
 "nbformat_minor": 2
}
